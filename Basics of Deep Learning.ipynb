{
 "cells": [
  {
   "cell_type": "code",
   "execution_count": 3,
   "metadata": {},
   "outputs": [],
   "source": [
    "import numpy as np \n",
    "import matplotlib.pyplot as plt"
   ]
  },
  {
   "attachments": {},
   "cell_type": "markdown",
   "metadata": {},
   "source": [
    "Matrix Addition"
   ]
  },
  {
   "cell_type": "code",
   "execution_count": 84,
   "metadata": {},
   "outputs": [
    {
     "name": "stdout",
     "output_type": "stream",
     "text": [
      "A = \n",
      "[[0.19673261 0.80415082 0.70867527]\n",
      " [0.48473056 0.54912771 0.00208187]\n",
      " [0.82335402 0.76530067 0.61008196]]\n",
      "\n",
      "B = \n",
      "[[0.45332425 0.04074929 0.10778829]\n",
      " [0.70841256 0.79118106 0.58725339]\n",
      " [0.75563146 0.67162469 0.62194142]]\n",
      "\n",
      "A + B = \n",
      "[[0.65005686 0.84490012 0.81646356]\n",
      " [1.19314312 1.34030877 0.58933526]\n",
      " [1.57898548 1.43692536 1.23202338]]\n",
      "\n"
     ]
    }
   ],
   "source": [
    "A = np.random.rand(3,3)\n",
    "print(f\"A = \\n{A}\\n\")\n",
    "B = np.random.rand(3,3)\n",
    "print(f\"B = \\n{B}\\n\")\n",
    "print(f\"A + B = \\n{A+B}\\n\")"
   ]
  },
  {
   "attachments": {},
   "cell_type": "markdown",
   "metadata": {},
   "source": [
    "Dot Product"
   ]
  },
  {
   "cell_type": "code",
   "execution_count": 85,
   "metadata": {},
   "outputs": [
    {
     "name": "stdout",
     "output_type": "stream",
     "text": [
      "A.B - C = \n",
      " [[ 0.7190618   0.21122573  0.23791487]\n",
      " [-0.16259479 -0.14349388  0.19653793]\n",
      " [ 0.95300129  0.52355365  0.56650289]]\n"
     ]
    }
   ],
   "source": [
    "C = np.random.rand(3,3)\n",
    "print(f\"A.B - C = \\n {np.dot(A,B)-C}\")\n"
   ]
  },
  {
   "attachments": {},
   "cell_type": "markdown",
   "metadata": {},
   "source": [
    "Element Wise Multiplication "
   ]
  },
  {
   "cell_type": "code",
   "execution_count": 86,
   "metadata": {},
   "outputs": [
    {
     "name": "stdout",
     "output_type": "stream",
     "text": [
      "A (element-wise multiplication) B + C^T = \n",
      " [[0.5644734  0.80568558 0.49977768]\n",
      " [1.25237292 1.03356343 0.52645754]\n",
      " [1.3184376  0.69347708 0.73054092]]\n"
     ]
    }
   ],
   "source": [
    "print(f\"A (element-wise multiplication) B + C^T = \\n {A*B + np.transpose(C)}\")"
   ]
  },
  {
   "attachments": {},
   "cell_type": "markdown",
   "metadata": {},
   "source": [
    "A^T B"
   ]
  },
  {
   "cell_type": "code",
   "execution_count": 87,
   "metadata": {},
   "outputs": [
    {
     "name": "stdout",
     "output_type": "stream",
     "text": [
      " A = \n",
      " [[1]\n",
      " [2]\n",
      " [3]] \n",
      " and B = \n",
      " [[1]\n",
      " [2]\n",
      " [3]] \n",
      " A^T B = \n",
      " [[14]]\n"
     ]
    }
   ],
   "source": [
    "A = np.array([1,2,3]).reshape((3,1))\n",
    "B = np.array([1,2,3]).reshape((3,1))\n",
    "print(f\" A = \\n {A} \\n and B = \\n {B} \\n A^T B = \\n {np.dot(np.transpose(A),B)}\")"
   ]
  },
  {
   "attachments": {},
   "cell_type": "markdown",
   "metadata": {},
   "source": [
    "Inverse"
   ]
  },
  {
   "cell_type": "code",
   "execution_count": 88,
   "metadata": {},
   "outputs": [
    {
     "name": "stdout",
     "output_type": "stream",
     "text": [
      "[[-3.33333333e-01]\n",
      " [ 6.66666667e-01]\n",
      " [ 1.11022302e-16]]\n",
      "[[-0.33333333]\n",
      " [ 0.66666667]\n",
      " [-0.        ]]\n"
     ]
    }
   ],
   "source": [
    "A = np.array([[1, 2, 3], [4, 5, 6], [7, 8, 10]])\n",
    "x = np.array([1, 2, 3]).reshape((-1,1))\n",
    "\n",
    "result = np.linalg.solve(A, x)\n",
    "print(np.dot(np.linalg.inv(A),B))\n",
    "print(result)\n"
   ]
  },
  {
   "attachments": {},
   "cell_type": "markdown",
   "metadata": {},
   "source": [
    "AB = (B^TA^T)^T"
   ]
  },
  {
   "cell_type": "code",
   "execution_count": 89,
   "metadata": {},
   "outputs": [
    {
     "name": "stdout",
     "output_type": "stream",
     "text": [
      "[ 1.  0. -0.]\n"
     ]
    }
   ],
   "source": [
    "A = np.array([[1, 2, 3], [4, 5, 6], [7, 8, 10]])\n",
    "x = np.array([1, 2, 3])\n",
    "\n",
    "result = np.linalg.solve(A.T, x.T).T\n",
    "print(result)\n"
   ]
  },
  {
   "attachments": {},
   "cell_type": "markdown",
   "metadata": {},
   "source": [
    "Summation of a row in the given matrix"
   ]
  },
  {
   "cell_type": "code",
   "execution_count": 90,
   "metadata": {},
   "outputs": [
    {
     "name": "stdout",
     "output_type": "stream",
     "text": [
      "A = \n",
      " [[0.62505177 0.20993501 0.25472359 0.09109655 0.15485234 0.55964393]\n",
      " [0.48259411 0.08427352 0.50145271 0.03474063 0.13400269 0.38429734]\n",
      " [0.27394177 0.95849582 0.50074324 0.16973655 0.99413205 0.9250505 ]\n",
      " [0.50025368 0.28731437 0.9002156  0.02148037 0.59110098 0.77210887]\n",
      " [0.26011134 0.68751359 0.63322487 0.21500219 0.71411739 0.87762804]\n",
      " [0.2441004  0.92445757 0.44821242 0.3635826  0.81444711 0.70476615]]\n",
      "i = 2,\n",
      "\n",
      "1.4948752930426992\n"
     ]
    }
   ],
   "source": [
    "A = np.random.rand(6,6)\n",
    "i = np.random.randint(1,6)\n",
    "print(f\"A = \\n {A}\\ni = {i},\\n\")\n",
    "print(np.sum(A[i,2::2]))"
   ]
  },
  {
   "attachments": {},
   "cell_type": "markdown",
   "metadata": {},
   "source": [
    "Custom Summation"
   ]
  },
  {
   "cell_type": "code",
   "execution_count": 91,
   "metadata": {},
   "outputs": [
    {
     "name": "stdout",
     "output_type": "stream",
     "text": [
      "A = \n",
      "[[3.5567636  7.47394686 2.36845926 0.76307985 5.04408754 6.48964267]\n",
      " [7.4167176  9.35608843 4.7580363  5.52505232 2.80362573 0.15071126]\n",
      " [5.84756707 8.47231865 4.69884341 8.04538127 7.05499644 9.41313601]\n",
      " [2.0625037  3.14674556 1.31117147 4.58072299 1.64069099 7.26090794]\n",
      " [3.34626978 8.19762702 7.95211316 9.59237854 7.80105379 5.00834979]\n",
      " [5.4357392  4.25496705 3.71371696 2.45042182 6.69028735 4.18382895]]\n",
      " c, d = (2, 6) \n",
      "Answer = \n",
      "4.043650057270582\n"
     ]
    }
   ],
   "source": [
    "A = np.random.rand(6,6)*10\n",
    "\n",
    "c, d = 2,6\n",
    "print(f\"A = \\n{A}\\n c, d = {c,d} \\nAnswer = \\n{np.mean(A[np.nonzero((A >= c) & (A <= d))])}\") \n",
    "c, d = 0, 0"
   ]
  },
  {
   "attachments": {},
   "cell_type": "markdown",
   "metadata": {},
   "source": [
    "Sorting"
   ]
  },
  {
   "cell_type": "code",
   "execution_count": 92,
   "metadata": {},
   "outputs": [
    {
     "name": "stdout",
     "output_type": "stream",
     "text": [
      "[[ 0.36604971+0.j -0.08519501+0.j  0.59117434+0.j]\n",
      " [ 0.38182548+0.j -0.02809769+0.j -0.64889952+0.j]\n",
      " [ 0.43616391+0.j  0.05748469+0.j -0.09014597+0.j]\n",
      " [ 0.4736742 +0.j  0.28407993+0.j  0.02839107+0.j]\n",
      " [ 0.28827803+0.j  0.28808143+0.j -0.17386786+0.j]\n",
      " [ 0.47170594+0.j -0.90827062+0.j  0.43621088+0.j]]\n"
     ]
    }
   ],
   "source": [
    "A = np.random.rand(6,6)*10\n",
    "k = np.random.randint(0,5)\n",
    "\n",
    "val, vec = np.linalg.eig(A)\n",
    "i = np.argsort(val)[::-1][:k]\n",
    "print(vec[:,i])"
   ]
  },
  {
   "attachments": {},
   "cell_type": "markdown",
   "metadata": {},
   "source": [
    "Multivariate Normal Distribution"
   ]
  },
  {
   "cell_type": "code",
   "execution_count": 109,
   "metadata": {},
   "outputs": [
    {
     "name": "stdout",
     "output_type": "stream",
     "text": [
      "n = 6,\tm = 4,\ts = 4, \tk = 5, \n",
      "x = \n",
      "[[0.63401866]\n",
      " [0.89262795]\n",
      " [0.49469602]\n",
      " [0.80473759]\n",
      " [0.11191846]\n",
      " [0.33949438]]\n",
      "[[4.32289843 4.52116407 3.12678975 5.83210396 0.01145984 5.13305952]\n",
      " [4.35015882 2.4665963  1.5246     2.45287717 2.24254944 4.75368938]\n",
      " [4.61510277 1.1098373  1.25836314 7.98779105 6.38992563 2.30113793]\n",
      " [4.45406634 5.65088468 2.96081279 5.20358511 3.74486763 2.62056847]\n",
      " [5.22987525 5.48166628 2.2488019  3.76931408 4.80209231 1.56802567]]\n"
     ]
    }
   ],
   "source": [
    "n, m, s, k  = np.random.randint(3,8), np.random.randint(1,6),  np.random.randint(1,6), np.random.randint(1,6)\n",
    "x = np.random.rand(n,1)\n",
    "print(f'n = {n},\\tm = {m},\\ts = {s}, \\tk = {k}, \\nx = \\n{x}')\n",
    "\n",
    "z = np.ones((x.shape))\n",
    "mean = x + m*z\n",
    "cov = s*np.identity(n)\n",
    "\n",
    "answer = np.random.multivariate_normal(mean.flatten(), cov, k)\n",
    "print(answer)\n"
   ]
  },
  {
   "cell_type": "code",
   "execution_count": 155,
   "metadata": {},
   "outputs": [
    {
     "name": "stdout",
     "output_type": "stream",
     "text": [
      "0\n",
      "[[2.32048725 1.54310307 8.79467309 3.28285882]\n",
      " [0.         0.         0.         0.        ]\n",
      " [0.         0.         0.         0.        ]\n",
      " [0.         0.         0.         0.        ]]\n",
      "1\n",
      "[[2.32048725 1.54310307 8.79467309 3.28285882]\n",
      " [7.49599284 4.12364005 8.18177187 3.80331438]\n",
      " [0.         0.         0.         0.        ]\n",
      " [0.         0.         0.         0.        ]]\n",
      "2\n",
      "[[2.32048725 1.54310307 8.79467309 3.28285882]\n",
      " [7.49599284 4.12364005 8.18177187 3.80331438]\n",
      " [6.76957145 9.82609407 7.06054872 4.04414867]\n",
      " [0.         0.         0.         0.        ]]\n",
      "3\n",
      "[[2.32048725 1.54310307 8.79467309 3.28285882]\n",
      " [7.49599284 4.12364005 8.18177187 3.80331438]\n",
      " [6.76957145 9.82609407 7.06054872 4.04414867]\n",
      " [7.42276079 6.9394272  6.35883581 6.16735751]]\n"
     ]
    }
   ],
   "source": [
    "A = np.random.rand(4,4)*10\n",
    "B = np.zeros((A.shape))\n",
    "for k,row in enumerate(A):\n",
    "    print(k)\n",
    "    x = np.random.randint(0,A.shape[0])\n",
    "    B[k,:] = A[x,:]\n",
    "    A[x,:] = np.zeros((A[x,:].shape))\n",
    "    y = A[np.nonzero(A)]\n",
    "    A = np.reshape(y,(A.shape[0]-1, A.shape[1]))\n",
    "    # print(A)\n",
    "    print(B)\n"
   ]
  },
  {
   "attachments": {},
   "cell_type": "markdown",
   "metadata": {},
   "source": [
    "Normalizing"
   ]
  },
  {
   "cell_type": "code",
   "execution_count": 161,
   "metadata": {},
   "outputs": [
    {
     "name": "stdout",
     "output_type": "stream",
     "text": [
      "[[9.35574028]\n",
      " [8.16820008]\n",
      " [0.50976732]\n",
      " [9.63916087]\n",
      " [7.70278445]\n",
      " [1.12636013]]\n",
      "[[ 0.86448025]\n",
      " [ 0.5507325 ]\n",
      " [-1.47262305]\n",
      " [ 0.93935988]\n",
      " [ 0.42776983]\n",
      " [-1.30971942]]\n"
     ]
    }
   ],
   "source": [
    "n = np.random.randint(3,8)\n",
    "A = np.random.rand(n,1)*10\n",
    "print(A)\n",
    "B = np.zeros_like(A)\n",
    "mean = np.mean(A)\n",
    "std = np.std(A)\n",
    "\n",
    "for k,i in enumerate(A):\n",
    "    B[k] = (i - mean)/std\n",
    "\n",
    "print(B)\n",
    "    "
   ]
  },
  {
   "attachments": {},
   "cell_type": "markdown",
   "metadata": {},
   "source": [
    "Basics: numpy "
   ]
  },
  {
   "cell_type": "code",
   "execution_count": 181,
   "metadata": {},
   "outputs": [
    {
     "name": "stdout",
     "output_type": "stream",
     "text": [
      "[[[ 1  1  1]\n",
      "  [ 2  2  2]\n",
      "  [ 3  3  3]]\n",
      "\n",
      " [[ 4  4  4]\n",
      "  [ 5  5  5]\n",
      "  [ 6  6  6]]\n",
      "\n",
      " [[ 7  7  7]\n",
      "  [ 8  8  8]\n",
      "  [10 10 10]]]\n",
      "[[ 0.          5.19615242 11.        ]\n",
      " [ 5.19615242  0.          5.83095189]\n",
      " [11.          5.83095189  0.        ]]\n"
     ]
    }
   ],
   "source": [
    "n = np.random.randint(3,8)\n",
    "m = np.random.randint(3,8)\n",
    "# A = np.random.rand(m,n)*10\n",
    "A = np.array([[1, 2, 3], [4, 5, 6], [7, 8, 10]])\n",
    "\n",
    "A = A[:,:, np.newaxis]\n",
    "A = np.repeat(A, A.shape[1], axis=2)\n",
    "print(A)\n",
    "swapA = np.swapaxes(A, 0, 2)\n",
    "print(np.linalg.norm(A-swapA, axis=1))"
   ]
  },
  {
   "attachments": {},
   "cell_type": "markdown",
   "metadata": {},
   "source": [
    "Age Regressor"
   ]
  },
  {
   "cell_type": "code",
   "execution_count": 1,
   "metadata": {},
   "outputs": [],
   "source": [
    "def linear_regression(X, y):\n",
    "    X = np.transpose(X)\n",
    "    print(X.shape)\n",
    "    print(y.shape)\n",
    "    X_XT = np.matmul(X,np.transpose(X))\n",
    "    XY = np.matmul(X,y)\n",
    "    w = np.linalg.solve(X_XT,XY)\n",
    "    return w, X\n",
    "\n",
    "\n",
    "\n",
    "def train_age_regressor():\n",
    "    # Load data\n",
    "    X_tr = np.reshape(np.load(r\"D:\\WPI\\Academics\\Deep_Learning\\DL\\HW01\\age_regression_Xtr.npy\"), (-1, 48*48))\n",
    "    ytr = np.load(r\"D:\\WPI\\Academics\\Deep_Learning\\DL\\HW01\\age_regression_ytr.npy\").reshape(-1,1)\n",
    "    X_te = np.reshape(np.load(r\"D:\\WPI\\Academics\\Deep_Learning\\DL\\HW01\\age_regression_Xte.npy\"), (-1, 48*48))\n",
    "    yte = np.load(r\"D:\\WPI\\Academics\\Deep_Learning\\DL\\HW01\\age_regression_yte.npy\").reshape(-1,1)\n",
    "\n",
    "    w, X = linear_regression(X_tr, ytr)\n",
    "    # print(w)\n",
    "    yhat = np.matmul(X_tr,w)\n",
    "    y_tr_hat = np.square(yhat - ytr)\n",
    "    FMSE_tr = (np.mean(y_tr_hat)/2).reshape(-1,1)\n",
    "    print(FMSE_tr)\n",
    "    yhat_te = np.square(np.matmul(X_te,w)-yte)\n",
    "    FMSE_te = (np.mean(yhat_te)/2).reshape(-1,1)\n",
    "    print(f\"FMSE of test = {FMSE_te}\")\n"
   ]
  },
  {
   "cell_type": "code",
   "execution_count": 4,
   "metadata": {},
   "outputs": [
    {
     "name": "stdout",
     "output_type": "stream",
     "text": [
      "(2304, 5000)\n",
      "(5000, 1)\n",
      "[[50.46528793]]\n",
      "FMSE of test = [[268.74474836]]\n"
     ]
    }
   ],
   "source": [
    "train_age_regressor()"
   ]
  },
  {
   "cell_type": "markdown",
   "metadata": {},
   "source": [
    "Using Stochastic Gradient Descend in Numpy"
   ]
  },
  {
   "cell_type": "code",
   "execution_count": 1,
   "metadata": {},
   "outputs": [],
   "source": [
    "import numpy as np\n",
    "from cmath import inf"
   ]
  },
  {
   "cell_type": "code",
   "execution_count": 2,
   "metadata": {},
   "outputs": [],
   "source": [
    "def linear_regression(X, y):\n",
    "    print(X.shape)\n",
    "    print(y.shape)\n",
    "    X_XT = np.matmul(X,np.transpose(X))\n",
    "    XY = np.matmul(X,np.transpose(y))\n",
    "    w = np.linalg.solve(X_XT,XY)\n",
    "    return w, X\n",
    "\n",
    "\n",
    "def mean_square_error(y_hat, y):\n",
    "        sq_error = np.square(y_hat-y)\n",
    "        mse = (np.mean(sq_error))/2\n",
    "        return mse\n",
    "\n",
    "\n",
    "def train_age_regressor1():\n",
    "    # Load data\n",
    "    X_tr = np.reshape(np.load(r\"D:\\WPI\\Academics\\Deep_Learning\\DL\\HW01\\age_regression_Xtr.npy\"), (-1, 48*48))\n",
    "    ytr = np.load(r\"D:\\WPI\\Academics\\Deep_Learning\\DL\\HW01\\age_regression_ytr.npy\")\n",
    "    X_te = np.reshape(np.load(r\"D:\\WPI\\Academics\\Deep_Learning\\DL\\HW01\\age_regression_Xte.npy\"), (-1, 48*48))\n",
    "    yte = np.load(r\"D:\\WPI\\Academics\\Deep_Learning\\DL\\HW01\\age_regression_yte.npy\")\n",
    "\n",
    "    X = X_tr.T\n",
    "    # print(f'shape of Xtr and ytr = {X.shape, ytr.shape}')\n",
    "    \n",
    "    ## Randomly permutate over the indexes of the training data\n",
    "    idx = np.random.permutation(X.shape[1]).reshape(1,-1)\n",
    "    print(f'shape of idx = {idx.shape}')\n",
    "    c = int(idx.shape[1]*0.8)\n",
    "    Xtrain = X[:,:c]\n",
    "    ytrain = ytr[:c]\n",
    "    Xvalid = X[:,c:]\n",
    "    yvalid = ytr[c:]\n",
    "    # print(f'shape of Xtrain and ytrain= {Xtrain.shape, ytrain.shape}')\n",
    "    # print(f'shape of Xvalid and yvalid= {Xvalid.shape, yvalid.shape}')\n",
    "\n",
    "    return Xtrain, np.transpose(ytrain).reshape(1,-1), Xvalid, np.transpose(yvalid).reshape(1,-1), X_te, np.transpose(yte).reshape(1,-1)\n",
    "\n",
    "    "
   ]
  },
  {
   "cell_type": "code",
   "execution_count": 3,
   "metadata": {},
   "outputs": [
    {
     "name": "stdout",
     "output_type": "stream",
     "text": [
      "shape of idx = (1, 5000)\n",
      "shape of Xtrain and ytrain= ((2304, 4000), (1, 4000))\n",
      "shape of Xval and yval= ((2304, 1000), (1, 1000))\n",
      "shape of Xte and yte= ((2500, 2304), (1, 2500))\n"
     ]
    }
   ],
   "source": [
    "Xtr, ytr, Xval, yval, Xte, yte = train_age_regressor1()\n",
    "print(f'shape of Xtrain and ytrain= {Xtr.shape, ytr.shape}')\n",
    "print(f'shape of Xval and yval= {Xval.shape, yval.shape}')\n",
    "print(f'shape of Xte and yte= {Xte.shape, yte.shape}')\n"
   ]
  },
  {
   "cell_type": "code",
   "execution_count": 4,
   "metadata": {},
   "outputs": [],
   "source": [
    "# w, X = linear_regression(Xtr, ytr)\n",
    "# print(w.shape, X.shape)\n",
    "# yhat = np.matmul(np.transpose(X),w)\n",
    "# mse = mean_square_error(ytr,yhat)\n"
   ]
  },
  {
   "cell_type": "code",
   "execution_count": 6,
   "metadata": {},
   "outputs": [],
   "source": [
    "def Fmse(X, y, w, bias):\n",
    "    # print(\"fmse wei\",w.shape)\n",
    "    yhat = np.matmul(np.transpose(X), w) + bias\n",
    "    temp = np.square(yhat - y)\n",
    "    fmse = np.mean(temp)/2\n",
    "    return fmse\n",
    "\n",
    "def grad_weights(X, y, bias, w, alpha):\n",
    "    # print(\"gradw wei\",w.shape)\n",
    "    # print(\"grad w chya aat X\",X.shape)\n",
    "    yhat = np.matmul(np.transpose(X), w) + bias - np.transpose(y)\n",
    "    # print(\"yhat\",yhat.shape)\n",
    "    temp2 = np.matmul(X, yhat)/X.shape[1]\n",
    "    # print(\"temp2\",temp2.shape)    \n",
    "    L2reg = np.dot((alpha/2),w)\n",
    "    grad_mse = (temp2/X.shape[1]) +L2reg\n",
    "    return grad_mse\n",
    "\n",
    "def grad_bias(X, y, w, bias):\n",
    "    # print(\"gradb wei\",w.shape)\n",
    "    yhat = np.matmul(np.transpose(X), w) + bias - np.transpose(y)\n",
    "    # print(\"yhat in grad b = \", yhat.shape)\n",
    "    temp = np.mean(np.matmul(X, yhat))\n",
    "    # print(\"temp in b = \", temp.shape)\n",
    "    return temp  \n",
    "\n",
    "\n",
    "\n",
    "def SGD(epoch, X,  mini_batch, lr, alpha, w_init, y, bias):\n",
    "    for i in range(epoch):\n",
    "        # print('epoch',i)\n",
    "        mini_batch_size = X.shape[1]/mini_batch\n",
    "        # print(mini_batch_size)\n",
    "        # idx = np.random.permutation(X.shape[1]).reshape(1,-1)\n",
    "        start = 0\n",
    "        ws = w_init\n",
    "        end = int(mini_batch_size)\n",
    "        for j in range(int(mini_batch_size)):\n",
    "            # print(\"mini_sgd chya aat\", j)\n",
    "            train = X[:, start:end]\n",
    "            label = y[:, start:end]\n",
    "            # print(train.shape, label.shape, ws.shape)\n",
    "            grad_w = grad_weights(train, label, bias, ws, alpha)\n",
    "            grad_b = grad_bias(train, label, ws, bias)\n",
    "            # print(\"ws1\", ws.shape)\n",
    "            # print(\"grad_w\",grad_w.shape)\n",
    "            # print(\"sgd chay aat b navin = \", grad_b.shape)\n",
    "            w_new = ws - lr*grad_w\n",
    "            # print(\"ws2\",w_new.shape)\n",
    "            b_new = bias - np.dot(lr,grad_b)\n",
    "            # print(\"new bias in sgd\", b_new.shape)\n",
    "\n",
    "            ws = w_new\n",
    "            bias = b_new\n",
    "            start = end\n",
    "            end = end + int(mini_batch_size)\n",
    "            # print(start, end)\n",
    "\n",
    "    fmse_epoch = Fmse(X, y, ws, bias)\n",
    "    return fmse_epoch, w_new, b_new"
   ]
  },
  {
   "cell_type": "code",
   "execution_count": null,
   "metadata": {},
   "outputs": [],
   "source": [
    "##Random initializations for hyper-parameters\n",
    "w = np.zeros((Xtr.shape[0],1))\n",
    "for i in range(w.shape[0]):\n",
    "    w[i] = np.random.randint(-10,10)\n",
    "# print('weightsize',w_init.shape)\n",
    "\n",
    "bias = 0\n",
    "\n",
    "epochs = [100, 250, 500, 1000]\n",
    "lrs = [0.001, 0.005, 0.007, 0.009]\n",
    "alphas = [0.1, 0.5, 1.0, 2.0]\n",
    "mini_batch = [25, 50, 100, 250]\n",
    "fmse_init = inf\n",
    "\n",
    "\n",
    "for epoch in epochs:\n",
    "    print(\"number of epochs\", epoch)\n",
    "    for mb in mini_batch:\n",
    "        # print(\"mb\",mb)\n",
    "        for lr in lrs:\n",
    "            # print(\"lrs\",lr)\n",
    "            for alpha in alphas:\n",
    "                # print(\"alpha\", alpha)\n",
    "                # print(\"Xtr\", Xtr.shape, \"ytr\", ytr.shape)\n",
    "                fmse_epoch, w, b = SGD(epoch, Xtr, mb, lr, alpha, w, ytr, bias)            #def SGD(epoch, X,  mini_batch, lr, alpha, w_init, y, bias):\n",
    "                fmse_epoch_of_valid = Fmse(Xval, yval, w, b)\n",
    "                if fmse_epoch_of_valid < fmse_init:\n",
    "                    print(\"Lowest Fmse for epochs (m)\",epoch,\" Learning rate\",lr,\"alpha\", alpha,\" mini_batch_size\",mb)\n",
    "                    # best_w = w\n",
    "                    # best_b = b\n",
    "                    best_alpha = alpha\n",
    "                    best_mini_batch = mb\n",
    "                    best_lr = lr\n",
    "                    best_epochs = epoch\n",
    "\n",
    "w_init = np.zeros((Xtr.shape[0],1))\n",
    "for i in range(w_init.shape[0]):\n",
    "    w_init[i] = np.random.randint(-10,10)\n",
    "\n",
    "bias = 0\n",
    "fmse, w, b = SGD(best_epochs, Xtr, best_mini_batch, best_lr, best_alpha, w_init, ytr, bias)\n",
    "\n",
    "print(f'Fmse = {fmse}')\n",
    "\n",
    "                "
   ]
  },
  {
   "cell_type": "code",
   "execution_count": null,
   "metadata": {},
   "outputs": [],
   "source": []
  }
 ],
 "metadata": {
  "kernelspec": {
   "display_name": "Python 3",
   "language": "python",
   "name": "python3"
  },
  "language_info": {
   "codemirror_mode": {
    "name": "ipython",
    "version": 3
   },
   "file_extension": ".py",
   "mimetype": "text/x-python",
   "name": "python",
   "nbconvert_exporter": "python",
   "pygments_lexer": "ipython3",
   "version": "3.8.4"
  },
  "orig_nbformat": 4,
  "vscode": {
   "interpreter": {
    "hash": "d5a41efa2e1e47cd70c0626adfcb2629c7012816a142336e35a0911abbfcad27"
   }
  }
 },
 "nbformat": 4,
 "nbformat_minor": 2
}
